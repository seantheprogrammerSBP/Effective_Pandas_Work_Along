{
 "cells": [
  {
   "cell_type": "code",
   "execution_count": 1,
   "id": "6057937a-4493-4974-a95a-c4e43edc7a5a",
   "metadata": {
    "tags": []
   },
   "outputs": [],
   "source": [
    "import numpy as np\n",
    "import pandas as pd"
   ]
  },
  {
   "cell_type": "code",
   "execution_count": 2,
   "id": "88a39f67-4e71-48fa-b2c7-37d454b47f43",
   "metadata": {},
   "outputs": [],
   "source": [
    "pd.set_option('display.max_rows', 10)              # REMOVELINE \n",
    "url = 'https://github.com/mattharrison/datasets/raw/master/data/'\\\n",
    "    'siena2018-pres.csv'\n",
    "df = pd.read_csv(url, index_col=0)"
   ]
  },
  {
   "cell_type": "code",
   "execution_count": 3,
   "id": "bbc1228d-47a2-4c69-b83b-58c6c444bb51",
   "metadata": {
    "tags": []
   },
   "outputs": [],
   "source": [
    "def tweak_siena_pres(df):\n",
    "    def int64_to_uint8(df_):\n",
    "        cols = df_.select_dtypes('int64')\n",
    "        return (df_\n",
    "                .astype({col:'uint8' for col in cols}))\n",
    "\n",
    "\n",
    "    return (df\n",
    "     .rename(columns={'Seq.':'Seq'})    # 1\n",
    "     .rename(columns={k:v.replace(' ', '_') for k,v in\n",
    "        {'Bg': 'Background',\n",
    "         'PL': 'Party leadership', 'CAb': 'Communication ability',\n",
    "         'RC': 'Relations with Congress', 'CAp': 'Court appointments',\n",
    "         'HE': 'Handling of economy', 'L': 'Luck',\n",
    "         'AC': 'Ability to compromise', 'WR': 'Willing to take risks',\n",
    "         'EAp': 'Executive appointments', 'OA': 'Overall ability',\n",
    "         'Im': 'Imagination', 'DA': 'Domestic accomplishments',\n",
    "         'Int': 'Integrity', 'EAb': 'Executive ability',\n",
    "         'FPA': 'Foreign policy accomplishments',\n",
    "         'LA': 'Leadership ability',\n",
    "         'IQ': 'Intelligence', 'AM': 'Avoid crucial mistakes',\n",
    "         'EV': \"Experts' view\", 'O': 'Overall'}.items()})\n",
    "     .astype({'Party':'category'})  # 2\n",
    "     .pipe(int64_to_uint8)  # 3\n",
    "     .assign(Average_rank=lambda df_:(df_.select_dtypes('uint8') # 4\n",
    "                 .sum(axis=1).rank(method='dense').astype('uint8')),\n",
    "             Quartile=lambda df_:pd.qcut(df_.Average_rank, 4,\n",
    "                 labels='1st 2nd 3rd 4th'.split())\n",
    "            )\n",
    "    )"
   ]
  },
  {
   "cell_type": "code",
   "execution_count": 4,
   "id": "a6a72014-fdb6-4f49-a2b4-6dca3b97e180",
   "metadata": {
    "tags": []
   },
   "outputs": [
    {
     "data": {
      "text/plain": [
       "Index         352\n",
       "Seq.         2590\n",
       "President    3175\n",
       "Party        2976\n",
       "Bg            352\n",
       "             ... \n",
       "DA            352\n",
       "FPA           352\n",
       "AM            352\n",
       "EV            352\n",
       "O             352\n",
       "Length: 25, dtype: int64"
      ]
     },
     "execution_count": 4,
     "metadata": {},
     "output_type": "execute_result"
    }
   ],
   "source": [
    "df.memory_usage(deep=True)"
   ]
  },
  {
   "cell_type": "code",
   "execution_count": 6,
   "id": "74beabde-bc5f-4f1f-baab-879560988bbf",
   "metadata": {
    "tags": []
   },
   "outputs": [],
   "source": [
    "pres = tweak_siena_pres(df)"
   ]
  },
  {
   "cell_type": "code",
   "execution_count": 7,
   "id": "07ebd05f-fc3a-443c-ba94-0c8d16b3e054",
   "metadata": {
    "tags": []
   },
   "outputs": [
    {
     "data": {
      "text/plain": [
       "Index                      352\n",
       "Seq                       2590\n",
       "President                 3175\n",
       "Party                      624\n",
       "Background                  44\n",
       "                          ... \n",
       "Avoid_crucial_mistakes      44\n",
       "Experts'_view               44\n",
       "Overall                     44\n",
       "Average_rank                44\n",
       "Quartile                   456\n",
       "Length: 27, dtype: int64"
      ]
     },
     "execution_count": 7,
     "metadata": {},
     "output_type": "execute_result"
    }
   ],
   "source": [
    "pres.memory_usage(deep=True)"
   ]
  },
  {
   "cell_type": "code",
   "execution_count": 8,
   "id": "bc453189-e5bc-432f-81e8-76bbe6bda558",
   "metadata": {
    "tags": []
   },
   "outputs": [
    {
     "name": "stdout",
     "output_type": "stream",
     "text": [
      "<class 'pandas.core.frame.DataFrame'>\n",
      "Int64Index: 44 entries, 1 to 44\n",
      "Data columns (total 26 columns):\n",
      " #   Column                          Non-Null Count  Dtype   \n",
      "---  ------                          --------------  -----   \n",
      " 0   Seq                             44 non-null     object  \n",
      " 1   President                       44 non-null     object  \n",
      " 2   Party                           44 non-null     category\n",
      " 3   Background                      44 non-null     uint8   \n",
      " 4   Imagination                     44 non-null     uint8   \n",
      " 5   Integrity                       44 non-null     uint8   \n",
      " 6   Intelligence                    44 non-null     uint8   \n",
      " 7   Luck                            44 non-null     uint8   \n",
      " 8   Willing_to_take_risks           44 non-null     uint8   \n",
      " 9   Ability_to_compromise           44 non-null     uint8   \n",
      " 10  Executive_ability               44 non-null     uint8   \n",
      " 11  Leadership_ability              44 non-null     uint8   \n",
      " 12  Communication_ability           44 non-null     uint8   \n",
      " 13  Overall_ability                 44 non-null     uint8   \n",
      " 14  Party_leadership                44 non-null     uint8   \n",
      " 15  Relations_with_Congress         44 non-null     uint8   \n",
      " 16  Court_appointments              44 non-null     uint8   \n",
      " 17  Handling_of_economy             44 non-null     uint8   \n",
      " 18  Executive_appointments          44 non-null     uint8   \n",
      " 19  Domestic_accomplishments        44 non-null     uint8   \n",
      " 20  Foreign_policy_accomplishments  44 non-null     uint8   \n",
      " 21  Avoid_crucial_mistakes          44 non-null     uint8   \n",
      " 22  Experts'_view                   44 non-null     uint8   \n",
      " 23  Overall                         44 non-null     uint8   \n",
      " 24  Average_rank                    44 non-null     uint8   \n",
      " 25  Quartile                        44 non-null     category\n",
      "dtypes: category(2), object(2), uint8(22)\n",
      "memory usage: 8.0 KB\n"
     ]
    }
   ],
   "source": [
    "pres.info(memory_usage='deep')"
   ]
  },
  {
   "cell_type": "code",
   "execution_count": null,
   "id": "8a0d2c26-cc92-4e94-a7e8-26cdae175f28",
   "metadata": {},
   "outputs": [],
   "source": []
  }
 ],
 "metadata": {
  "kernelspec": {
   "display_name": "Python 3 (ipykernel)",
   "language": "python",
   "name": "python3"
  },
  "language_info": {
   "codemirror_mode": {
    "name": "ipython",
    "version": 3
   },
   "file_extension": ".py",
   "mimetype": "text/x-python",
   "name": "python",
   "nbconvert_exporter": "python",
   "pygments_lexer": "ipython3",
   "version": "3.8.18"
  }
 },
 "nbformat": 4,
 "nbformat_minor": 5
}
