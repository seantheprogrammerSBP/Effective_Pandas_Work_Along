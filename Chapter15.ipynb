{
 "cells": [
  {
   "cell_type": "code",
   "execution_count": 1,
   "id": "7c3cdc22-c607-4f58-b0dd-46437c7dcbce",
   "metadata": {
    "tags": []
   },
   "outputs": [],
   "source": [
    "import pandas as pd\n",
    "import numpy as np"
   ]
  },
  {
   "cell_type": "code",
   "execution_count": 2,
   "id": "66b74ff5-ea4e-44e2-9fe3-4c6005e96f25",
   "metadata": {
    "tags": []
   },
   "outputs": [],
   "source": [
    "url = 'https://github.com/mattharrison/datasets/raw/master/' \\\n",
    "'data/vehicles.csv.zip'"
   ]
  },
  {
   "cell_type": "code",
   "execution_count": 3,
   "id": "b2410927-af33-436b-a840-164f888f0231",
   "metadata": {
    "tags": []
   },
   "outputs": [
    {
     "name": "stderr",
     "output_type": "stream",
     "text": [
      "/var/folders/0m/djy5jf494nl4fkspl_602jb00000gn/T/ipykernel_850/4176769558.py:1: DtypeWarning: Columns (68,70,71,72,73,74,76,79) have mixed types. Specify dtype option on import or set low_memory=False.\n",
      "  df = pd.read_csv(url)\n"
     ]
    }
   ],
   "source": [
    "df = pd.read_csv(url)"
   ]
  },
  {
   "cell_type": "code",
   "execution_count": 4,
   "id": "c132e0b9-694b-4193-b861-9dae6fb69649",
   "metadata": {
    "tags": []
   },
   "outputs": [],
   "source": [
    "make = df.make"
   ]
  },
  {
   "cell_type": "code",
   "execution_count": 5,
   "id": "77c6d9bf-a9d6-41d8-9b6c-292aac9f1ab9",
   "metadata": {
    "tags": []
   },
   "outputs": [
    {
     "data": {
      "text/plain": [
       "0        Alfa Romeo\n",
       "1           Ferrari\n",
       "2             Dodge\n",
       "3             Dodge\n",
       "4            Subaru\n",
       "            ...    \n",
       "41139        Subaru\n",
       "41140        Subaru\n",
       "41141        Subaru\n",
       "41142        Subaru\n",
       "41143        Subaru\n",
       "Name: make, Length: 41144, dtype: object"
      ]
     },
     "execution_count": 5,
     "metadata": {},
     "output_type": "execute_result"
    }
   ],
   "source": [
    "make"
   ]
  },
  {
   "cell_type": "code",
   "execution_count": 6,
   "id": "c8533a08-7b28-4780-9f3d-72fa1949cdef",
   "metadata": {
    "tags": []
   },
   "outputs": [
    {
     "data": {
      "text/plain": [
       "Chevrolet                      4003\n",
       "Ford                           3371\n",
       "Dodge                          2583\n",
       "GMC                            2494\n",
       "Toyota                         2071\n",
       "                               ... \n",
       "Volga Associated Automobile       1\n",
       "Panos                             1\n",
       "Mahindra                          1\n",
       "Excalibur Autos                   1\n",
       "London Coach Co Inc               1\n",
       "Name: make, Length: 136, dtype: int64"
      ]
     },
     "execution_count": 6,
     "metadata": {},
     "output_type": "execute_result"
    }
   ],
   "source": [
    "make.value_counts()"
   ]
  },
  {
   "cell_type": "code",
   "execution_count": 7,
   "id": "3ed731e1-3712-46ba-99f6-795404592b04",
   "metadata": {
    "tags": []
   },
   "outputs": [
    {
     "data": {
      "text/plain": [
       "((41144,), 136)"
      ]
     },
     "execution_count": 7,
     "metadata": {},
     "output_type": "execute_result"
    }
   ],
   "source": [
    "make.shape, make.nunique()"
   ]
  },
  {
   "cell_type": "code",
   "execution_count": 8,
   "id": "94a128ac-ac09-4193-bec3-f68191bf0933",
   "metadata": {
    "tags": []
   },
   "outputs": [],
   "source": [
    "cat_make = make.astype('category')"
   ]
  },
  {
   "cell_type": "code",
   "execution_count": 9,
   "id": "01c56ee0-6ce6-4ba1-92d0-7f0bb1c6c86e",
   "metadata": {
    "tags": []
   },
   "outputs": [
    {
     "data": {
      "text/plain": [
       "2606395"
      ]
     },
     "execution_count": 9,
     "metadata": {},
     "output_type": "execute_result"
    }
   ],
   "source": [
    "make.memory_usage(deep=True)"
   ]
  },
  {
   "cell_type": "code",
   "execution_count": 10,
   "id": "4cce71db-dc42-4db8-b8fe-bc4e6d01d349",
   "metadata": {
    "tags": []
   },
   "outputs": [
    {
     "data": {
      "text/plain": [
       "95888"
      ]
     },
     "execution_count": 10,
     "metadata": {},
     "output_type": "execute_result"
    }
   ],
   "source": [
    "cat_make.memory_usage(deep=True)"
   ]
  },
  {
   "cell_type": "code",
   "execution_count": 11,
   "id": "a9bd1b81-868a-43ae-97c5-8b9f62d16f83",
   "metadata": {
    "tags": []
   },
   "outputs": [
    {
     "name": "stdout",
     "output_type": "stream",
     "text": [
      "387 µs ± 1.98 µs per loop (mean ± std. dev. of 7 runs, 1,000 loops each)\n"
     ]
    }
   ],
   "source": [
    "%%timeit\n",
    "cat_make.str.upper()"
   ]
  },
  {
   "cell_type": "code",
   "execution_count": 12,
   "id": "775c5f79-4279-4d52-a445-79fda7807d48",
   "metadata": {
    "tags": []
   },
   "outputs": [
    {
     "name": "stdout",
     "output_type": "stream",
     "text": [
      "5.53 ms ± 25.3 µs per loop (mean ± std. dev. of 7 runs, 100 loops each)\n"
     ]
    }
   ],
   "source": [
    "%%timeit\n",
    "make.str.upper()"
   ]
  },
  {
   "cell_type": "code",
   "execution_count": 13,
   "id": "e1984456-9eac-4954-b47a-ff9c217b359b",
   "metadata": {
    "tags": []
   },
   "outputs": [],
   "source": [
    "make_type = pd.CategoricalDtype(\n",
    "    categories=sorted(make.unique()), ordered=True)"
   ]
  },
  {
   "cell_type": "code",
   "execution_count": 14,
   "id": "91a8770f-a1ae-4035-8eea-a96cddeb624c",
   "metadata": {
    "tags": []
   },
   "outputs": [],
   "source": [
    "ordered_make = make.astype(make_type)"
   ]
  },
  {
   "cell_type": "code",
   "execution_count": 15,
   "id": "81998460-d81a-4cc4-9f74-1ff321b3ea8c",
   "metadata": {
    "tags": []
   },
   "outputs": [
    {
     "data": {
      "text/plain": [
       "0        Alfa Romeo\n",
       "1           Ferrari\n",
       "2             Dodge\n",
       "3             Dodge\n",
       "4            Subaru\n",
       "            ...    \n",
       "41139        Subaru\n",
       "41140        Subaru\n",
       "41141        Subaru\n",
       "41142        Subaru\n",
       "41143        Subaru\n",
       "Name: make, Length: 41144, dtype: category\n",
       "Categories (136, object): ['AM General' < 'ASC Incorporated' < 'Acura' < 'Alfa Romeo' ... 'Volvo' < 'Wallace Environmental' < 'Yugo' < 'smart']"
      ]
     },
     "execution_count": 15,
     "metadata": {},
     "output_type": "execute_result"
    }
   ],
   "source": [
    "ordered_make"
   ]
  },
  {
   "cell_type": "code",
   "execution_count": 16,
   "id": "2fbe01bd-2dd1-44d2-93de-4d95587361c8",
   "metadata": {
    "tags": []
   },
   "outputs": [
    {
     "data": {
      "text/plain": [
       "'smart'"
      ]
     },
     "execution_count": 16,
     "metadata": {},
     "output_type": "execute_result"
    }
   ],
   "source": [
    "ordered_make.max()"
   ]
  },
  {
   "cell_type": "code",
   "execution_count": 17,
   "id": "83ba042b-d114-46bc-887f-54e146886bae",
   "metadata": {
    "tags": []
   },
   "outputs": [
    {
     "ename": "TypeError",
     "evalue": "Categorical is not ordered for operation max\nyou can use .as_ordered() to change the Categorical to an ordered one\n",
     "output_type": "error",
     "traceback": [
      "\u001b[0;31m---------------------------------------------------------------------------\u001b[0m",
      "\u001b[0;31mTypeError\u001b[0m                                 Traceback (most recent call last)",
      "Cell \u001b[0;32mIn[17], line 1\u001b[0m\n\u001b[0;32m----> 1\u001b[0m \u001b[43mcat_make\u001b[49m\u001b[38;5;241;43m.\u001b[39;49m\u001b[43mmax\u001b[49m\u001b[43m(\u001b[49m\u001b[43m)\u001b[49m\n",
      "File \u001b[0;32m/opt/anaconda3/lib/python3.8/site-packages/pandas/core/generic.py:11219\u001b[0m, in \u001b[0;36mNDFrame._add_numeric_operations.<locals>.max\u001b[0;34m(self, axis, skipna, level, numeric_only, **kwargs)\u001b[0m\n\u001b[1;32m  11199\u001b[0m \u001b[38;5;129m@doc\u001b[39m(  \u001b[38;5;66;03m# type: ignore[misc]\u001b[39;00m\n\u001b[1;32m  11200\u001b[0m     _num_doc,\n\u001b[1;32m  11201\u001b[0m     desc\u001b[38;5;241m=\u001b[39m\u001b[38;5;124m\"\u001b[39m\u001b[38;5;124mReturn the maximum of the values over the requested axis.\u001b[39m\u001b[38;5;130;01m\\n\u001b[39;00m\u001b[38;5;130;01m\\n\u001b[39;00m\u001b[38;5;124m\"\u001b[39m\n\u001b[0;32m   (...)\u001b[0m\n\u001b[1;32m  11217\u001b[0m     \u001b[38;5;241m*\u001b[39m\u001b[38;5;241m*\u001b[39mkwargs,\n\u001b[1;32m  11218\u001b[0m ):\n\u001b[0;32m> 11219\u001b[0m     \u001b[38;5;28;01mreturn\u001b[39;00m \u001b[43mNDFrame\u001b[49m\u001b[38;5;241;43m.\u001b[39;49m\u001b[43mmax\u001b[49m\u001b[43m(\u001b[49m\u001b[38;5;28;43mself\u001b[39;49m\u001b[43m,\u001b[49m\u001b[43m \u001b[49m\u001b[43maxis\u001b[49m\u001b[43m,\u001b[49m\u001b[43m \u001b[49m\u001b[43mskipna\u001b[49m\u001b[43m,\u001b[49m\u001b[43m \u001b[49m\u001b[43mlevel\u001b[49m\u001b[43m,\u001b[49m\u001b[43m \u001b[49m\u001b[43mnumeric_only\u001b[49m\u001b[43m,\u001b[49m\u001b[43m \u001b[49m\u001b[38;5;241;43m*\u001b[39;49m\u001b[38;5;241;43m*\u001b[39;49m\u001b[43mkwargs\u001b[49m\u001b[43m)\u001b[49m\n",
      "File \u001b[0;32m/opt/anaconda3/lib/python3.8/site-packages/pandas/core/generic.py:10676\u001b[0m, in \u001b[0;36mNDFrame.max\u001b[0;34m(self, axis, skipna, level, numeric_only, **kwargs)\u001b[0m\n\u001b[1;32m  10668\u001b[0m \u001b[38;5;28;01mdef\u001b[39;00m \u001b[38;5;21mmax\u001b[39m(\n\u001b[1;32m  10669\u001b[0m     \u001b[38;5;28mself\u001b[39m,\n\u001b[1;32m  10670\u001b[0m     axis: Axis \u001b[38;5;241m|\u001b[39m \u001b[38;5;28;01mNone\u001b[39;00m \u001b[38;5;241m|\u001b[39m lib\u001b[38;5;241m.\u001b[39mNoDefault \u001b[38;5;241m=\u001b[39m lib\u001b[38;5;241m.\u001b[39mno_default,\n\u001b[0;32m   (...)\u001b[0m\n\u001b[1;32m  10674\u001b[0m     \u001b[38;5;241m*\u001b[39m\u001b[38;5;241m*\u001b[39mkwargs,\n\u001b[1;32m  10675\u001b[0m ):\n\u001b[0;32m> 10676\u001b[0m     \u001b[38;5;28;01mreturn\u001b[39;00m \u001b[38;5;28;43mself\u001b[39;49m\u001b[38;5;241;43m.\u001b[39;49m\u001b[43m_stat_function\u001b[49m\u001b[43m(\u001b[49m\n\u001b[1;32m  10677\u001b[0m \u001b[43m        \u001b[49m\u001b[38;5;124;43m\"\u001b[39;49m\u001b[38;5;124;43mmax\u001b[39;49m\u001b[38;5;124;43m\"\u001b[39;49m\u001b[43m,\u001b[49m\n\u001b[1;32m  10678\u001b[0m \u001b[43m        \u001b[49m\u001b[43mnanops\u001b[49m\u001b[38;5;241;43m.\u001b[39;49m\u001b[43mnanmax\u001b[49m\u001b[43m,\u001b[49m\n\u001b[1;32m  10679\u001b[0m \u001b[43m        \u001b[49m\u001b[43maxis\u001b[49m\u001b[43m,\u001b[49m\n\u001b[1;32m  10680\u001b[0m \u001b[43m        \u001b[49m\u001b[43mskipna\u001b[49m\u001b[43m,\u001b[49m\n\u001b[1;32m  10681\u001b[0m \u001b[43m        \u001b[49m\u001b[43mlevel\u001b[49m\u001b[43m,\u001b[49m\n\u001b[1;32m  10682\u001b[0m \u001b[43m        \u001b[49m\u001b[43mnumeric_only\u001b[49m\u001b[43m,\u001b[49m\n\u001b[1;32m  10683\u001b[0m \u001b[43m        \u001b[49m\u001b[38;5;241;43m*\u001b[39;49m\u001b[38;5;241;43m*\u001b[39;49m\u001b[43mkwargs\u001b[49m\u001b[43m,\u001b[49m\n\u001b[1;32m  10684\u001b[0m \u001b[43m    \u001b[49m\u001b[43m)\u001b[49m\n",
      "File \u001b[0;32m/opt/anaconda3/lib/python3.8/site-packages/pandas/core/generic.py:10646\u001b[0m, in \u001b[0;36mNDFrame._stat_function\u001b[0;34m(self, name, func, axis, skipna, level, numeric_only, **kwargs)\u001b[0m\n\u001b[1;32m  10636\u001b[0m     warnings\u001b[38;5;241m.\u001b[39mwarn(\n\u001b[1;32m  10637\u001b[0m         \u001b[38;5;124m\"\u001b[39m\u001b[38;5;124mUsing the level keyword in DataFrame and Series aggregations is \u001b[39m\u001b[38;5;124m\"\u001b[39m\n\u001b[1;32m  10638\u001b[0m         \u001b[38;5;124m\"\u001b[39m\u001b[38;5;124mdeprecated and will be removed in a future version. Use groupby \u001b[39m\u001b[38;5;124m\"\u001b[39m\n\u001b[0;32m   (...)\u001b[0m\n\u001b[1;32m  10641\u001b[0m         stacklevel\u001b[38;5;241m=\u001b[39mfind_stack_level(),\n\u001b[1;32m  10642\u001b[0m     )\n\u001b[1;32m  10643\u001b[0m     \u001b[38;5;28;01mreturn\u001b[39;00m \u001b[38;5;28mself\u001b[39m\u001b[38;5;241m.\u001b[39m_agg_by_level(\n\u001b[1;32m  10644\u001b[0m         name, axis\u001b[38;5;241m=\u001b[39maxis, level\u001b[38;5;241m=\u001b[39mlevel, skipna\u001b[38;5;241m=\u001b[39mskipna, numeric_only\u001b[38;5;241m=\u001b[39mnumeric_only\n\u001b[1;32m  10645\u001b[0m     )\n\u001b[0;32m> 10646\u001b[0m \u001b[38;5;28;01mreturn\u001b[39;00m \u001b[38;5;28;43mself\u001b[39;49m\u001b[38;5;241;43m.\u001b[39;49m\u001b[43m_reduce\u001b[49m\u001b[43m(\u001b[49m\n\u001b[1;32m  10647\u001b[0m \u001b[43m    \u001b[49m\u001b[43mfunc\u001b[49m\u001b[43m,\u001b[49m\u001b[43m \u001b[49m\u001b[43mname\u001b[49m\u001b[38;5;241;43m=\u001b[39;49m\u001b[43mname\u001b[49m\u001b[43m,\u001b[49m\u001b[43m \u001b[49m\u001b[43maxis\u001b[49m\u001b[38;5;241;43m=\u001b[39;49m\u001b[43maxis\u001b[49m\u001b[43m,\u001b[49m\u001b[43m \u001b[49m\u001b[43mskipna\u001b[49m\u001b[38;5;241;43m=\u001b[39;49m\u001b[43mskipna\u001b[49m\u001b[43m,\u001b[49m\u001b[43m \u001b[49m\u001b[43mnumeric_only\u001b[49m\u001b[38;5;241;43m=\u001b[39;49m\u001b[43mnumeric_only\u001b[49m\n\u001b[1;32m  10648\u001b[0m \u001b[43m\u001b[49m\u001b[43m)\u001b[49m\n",
      "File \u001b[0;32m/opt/anaconda3/lib/python3.8/site-packages/pandas/core/series.py:4459\u001b[0m, in \u001b[0;36mSeries._reduce\u001b[0;34m(self, op, name, axis, skipna, numeric_only, filter_type, **kwds)\u001b[0m\n\u001b[1;32m   4455\u001b[0m     \u001b[38;5;28mself\u001b[39m\u001b[38;5;241m.\u001b[39m_get_axis_number(axis)\n\u001b[1;32m   4457\u001b[0m \u001b[38;5;28;01mif\u001b[39;00m \u001b[38;5;28misinstance\u001b[39m(delegate, ExtensionArray):\n\u001b[1;32m   4458\u001b[0m     \u001b[38;5;66;03m# dispatch to ExtensionArray interface\u001b[39;00m\n\u001b[0;32m-> 4459\u001b[0m     \u001b[38;5;28;01mreturn\u001b[39;00m \u001b[43mdelegate\u001b[49m\u001b[38;5;241;43m.\u001b[39;49m\u001b[43m_reduce\u001b[49m\u001b[43m(\u001b[49m\u001b[43mname\u001b[49m\u001b[43m,\u001b[49m\u001b[43m \u001b[49m\u001b[43mskipna\u001b[49m\u001b[38;5;241;43m=\u001b[39;49m\u001b[43mskipna\u001b[49m\u001b[43m,\u001b[49m\u001b[43m \u001b[49m\u001b[38;5;241;43m*\u001b[39;49m\u001b[38;5;241;43m*\u001b[39;49m\u001b[43mkwds\u001b[49m\u001b[43m)\u001b[49m\n\u001b[1;32m   4461\u001b[0m \u001b[38;5;28;01melse\u001b[39;00m:\n\u001b[1;32m   4462\u001b[0m     \u001b[38;5;66;03m# dispatch to numpy arrays\u001b[39;00m\n\u001b[1;32m   4463\u001b[0m     \u001b[38;5;28;01mif\u001b[39;00m numeric_only:\n",
      "File \u001b[0;32m/opt/anaconda3/lib/python3.8/site-packages/pandas/core/arrays/base.py:1373\u001b[0m, in \u001b[0;36mExtensionArray._reduce\u001b[0;34m(self, name, skipna, **kwargs)\u001b[0m\n\u001b[1;32m   1368\u001b[0m \u001b[38;5;28;01mif\u001b[39;00m meth \u001b[38;5;129;01mis\u001b[39;00m \u001b[38;5;28;01mNone\u001b[39;00m:\n\u001b[1;32m   1369\u001b[0m     \u001b[38;5;28;01mraise\u001b[39;00m \u001b[38;5;167;01mTypeError\u001b[39;00m(\n\u001b[1;32m   1370\u001b[0m         \u001b[38;5;124mf\u001b[39m\u001b[38;5;124m\"\u001b[39m\u001b[38;5;124m'\u001b[39m\u001b[38;5;132;01m{\u001b[39;00m\u001b[38;5;28mtype\u001b[39m(\u001b[38;5;28mself\u001b[39m)\u001b[38;5;241m.\u001b[39m\u001b[38;5;18m__name__\u001b[39m\u001b[38;5;132;01m}\u001b[39;00m\u001b[38;5;124m'\u001b[39m\u001b[38;5;124m with dtype \u001b[39m\u001b[38;5;132;01m{\u001b[39;00m\u001b[38;5;28mself\u001b[39m\u001b[38;5;241m.\u001b[39mdtype\u001b[38;5;132;01m}\u001b[39;00m\u001b[38;5;124m \u001b[39m\u001b[38;5;124m\"\u001b[39m\n\u001b[1;32m   1371\u001b[0m         \u001b[38;5;124mf\u001b[39m\u001b[38;5;124m\"\u001b[39m\u001b[38;5;124mdoes not support reduction \u001b[39m\u001b[38;5;124m'\u001b[39m\u001b[38;5;132;01m{\u001b[39;00mname\u001b[38;5;132;01m}\u001b[39;00m\u001b[38;5;124m'\u001b[39m\u001b[38;5;124m\"\u001b[39m\n\u001b[1;32m   1372\u001b[0m     )\n\u001b[0;32m-> 1373\u001b[0m \u001b[38;5;28;01mreturn\u001b[39;00m \u001b[43mmeth\u001b[49m\u001b[43m(\u001b[49m\u001b[43mskipna\u001b[49m\u001b[38;5;241;43m=\u001b[39;49m\u001b[43mskipna\u001b[49m\u001b[43m,\u001b[49m\u001b[43m \u001b[49m\u001b[38;5;241;43m*\u001b[39;49m\u001b[38;5;241;43m*\u001b[39;49m\u001b[43mkwargs\u001b[49m\u001b[43m)\u001b[49m\n",
      "File \u001b[0;32m/opt/anaconda3/lib/python3.8/site-packages/pandas/util/_decorators.py:207\u001b[0m, in \u001b[0;36mdeprecate_kwarg.<locals>._deprecate_kwarg.<locals>.wrapper\u001b[0;34m(*args, **kwargs)\u001b[0m\n\u001b[1;32m    205\u001b[0m     \u001b[38;5;28;01melse\u001b[39;00m:\n\u001b[1;32m    206\u001b[0m         kwargs[new_arg_name] \u001b[38;5;241m=\u001b[39m new_arg_value\n\u001b[0;32m--> 207\u001b[0m \u001b[38;5;28;01mreturn\u001b[39;00m \u001b[43mfunc\u001b[49m\u001b[43m(\u001b[49m\u001b[38;5;241;43m*\u001b[39;49m\u001b[43margs\u001b[49m\u001b[43m,\u001b[49m\u001b[43m \u001b[49m\u001b[38;5;241;43m*\u001b[39;49m\u001b[38;5;241;43m*\u001b[39;49m\u001b[43mkwargs\u001b[49m\u001b[43m)\u001b[49m\n",
      "File \u001b[0;32m/opt/anaconda3/lib/python3.8/site-packages/pandas/core/arrays/categorical.py:2226\u001b[0m, in \u001b[0;36mCategorical.max\u001b[0;34m(self, skipna, **kwargs)\u001b[0m\n\u001b[1;32m   2224\u001b[0m nv\u001b[38;5;241m.\u001b[39mvalidate_minmax_axis(kwargs\u001b[38;5;241m.\u001b[39mget(\u001b[38;5;124m\"\u001b[39m\u001b[38;5;124maxis\u001b[39m\u001b[38;5;124m\"\u001b[39m, \u001b[38;5;241m0\u001b[39m))\n\u001b[1;32m   2225\u001b[0m nv\u001b[38;5;241m.\u001b[39mvalidate_max((), kwargs)\n\u001b[0;32m-> 2226\u001b[0m \u001b[38;5;28;43mself\u001b[39;49m\u001b[38;5;241;43m.\u001b[39;49m\u001b[43mcheck_for_ordered\u001b[49m\u001b[43m(\u001b[49m\u001b[38;5;124;43m\"\u001b[39;49m\u001b[38;5;124;43mmax\u001b[39;49m\u001b[38;5;124;43m\"\u001b[39;49m\u001b[43m)\u001b[49m\n\u001b[1;32m   2228\u001b[0m \u001b[38;5;28;01mif\u001b[39;00m \u001b[38;5;129;01mnot\u001b[39;00m \u001b[38;5;28mlen\u001b[39m(\u001b[38;5;28mself\u001b[39m\u001b[38;5;241m.\u001b[39m_codes):\n\u001b[1;32m   2229\u001b[0m     \u001b[38;5;28;01mreturn\u001b[39;00m \u001b[38;5;28mself\u001b[39m\u001b[38;5;241m.\u001b[39mdtype\u001b[38;5;241m.\u001b[39mna_value\n",
      "File \u001b[0;32m/opt/anaconda3/lib/python3.8/site-packages/pandas/core/arrays/categorical.py:1707\u001b[0m, in \u001b[0;36mCategorical.check_for_ordered\u001b[0;34m(self, op)\u001b[0m\n\u001b[1;32m   1705\u001b[0m \u001b[38;5;250m\u001b[39m\u001b[38;5;124;03m\"\"\"assert that we are ordered\"\"\"\u001b[39;00m\n\u001b[1;32m   1706\u001b[0m \u001b[38;5;28;01mif\u001b[39;00m \u001b[38;5;129;01mnot\u001b[39;00m \u001b[38;5;28mself\u001b[39m\u001b[38;5;241m.\u001b[39mordered:\n\u001b[0;32m-> 1707\u001b[0m     \u001b[38;5;28;01mraise\u001b[39;00m \u001b[38;5;167;01mTypeError\u001b[39;00m(\n\u001b[1;32m   1708\u001b[0m         \u001b[38;5;124mf\u001b[39m\u001b[38;5;124m\"\u001b[39m\u001b[38;5;124mCategorical is not ordered for operation \u001b[39m\u001b[38;5;132;01m{\u001b[39;00mop\u001b[38;5;132;01m}\u001b[39;00m\u001b[38;5;130;01m\\n\u001b[39;00m\u001b[38;5;124m\"\u001b[39m\n\u001b[1;32m   1709\u001b[0m         \u001b[38;5;124m\"\u001b[39m\u001b[38;5;124myou can use .as_ordered() to change the \u001b[39m\u001b[38;5;124m\"\u001b[39m\n\u001b[1;32m   1710\u001b[0m         \u001b[38;5;124m\"\u001b[39m\u001b[38;5;124mCategorical to an ordered one\u001b[39m\u001b[38;5;130;01m\\n\u001b[39;00m\u001b[38;5;124m\"\u001b[39m\n\u001b[1;32m   1711\u001b[0m     )\n",
      "\u001b[0;31mTypeError\u001b[0m: Categorical is not ordered for operation max\nyou can use .as_ordered() to change the Categorical to an ordered one\n"
     ]
    }
   ],
   "source": [
    "cat_make.max()"
   ]
  },
  {
   "cell_type": "code",
   "execution_count": 18,
   "id": "ff19eb08-f8a1-4dbe-a0f1-0f7669e98d57",
   "metadata": {
    "tags": []
   },
   "outputs": [
    {
     "data": {
      "text/plain": [
       "20288    AM General\n",
       "20289    AM General\n",
       "369      AM General\n",
       "358      AM General\n",
       "19314    AM General\n",
       "            ...    \n",
       "31289         smart\n",
       "31290         smart\n",
       "29605         smart\n",
       "22974         smart\n",
       "26882         smart\n",
       "Name: make, Length: 41144, dtype: category\n",
       "Categories (136, object): ['AM General' < 'ASC Incorporated' < 'Acura' < 'Alfa Romeo' ... 'Volvo' < 'Wallace Environmental' < 'Yugo' < 'smart']"
      ]
     },
     "execution_count": 18,
     "metadata": {},
     "output_type": "execute_result"
    }
   ],
   "source": [
    "ordered_make.sort_values()"
   ]
  },
  {
   "cell_type": "code",
   "execution_count": 19,
   "id": "c31c3d96-c5a1-43d5-9dd5-363fd13fad92",
   "metadata": {
    "tags": []
   },
   "outputs": [
    {
     "data": {
      "text/plain": [
       "0        alfa romeo\n",
       "1           ferrari\n",
       "2             dodge\n",
       "3             dodge\n",
       "4            subaru\n",
       "            ...    \n",
       "41139        subaru\n",
       "41140        subaru\n",
       "41141        subaru\n",
       "41142        subaru\n",
       "41143        subaru\n",
       "Name: make, Length: 41144, dtype: category\n",
       "Categories (136, object): ['am general', 'asc incorporated', 'acura', 'alfa romeo', ..., 'volvo', 'wallace environmental', 'yugo', 'smart']"
      ]
     },
     "execution_count": 19,
     "metadata": {},
     "output_type": "execute_result"
    }
   ],
   "source": [
    "cat_make.cat.rename_categories(\n",
    "    [c.lower() for c in cat_make.cat.categories])"
   ]
  },
  {
   "cell_type": "code",
   "execution_count": 20,
   "id": "68136422-105d-41c1-97ce-9796ce9bbfab",
   "metadata": {
    "tags": []
   },
   "outputs": [
    {
     "data": {
      "text/plain": [
       "0        alfa romeo\n",
       "1           ferrari\n",
       "2             dodge\n",
       "3             dodge\n",
       "4            subaru\n",
       "            ...    \n",
       "41139        subaru\n",
       "41140        subaru\n",
       "41141        subaru\n",
       "41142        subaru\n",
       "41143        subaru\n",
       "Name: make, Length: 41144, dtype: category\n",
       "Categories (136, object): ['am general' < 'asc incorporated' < 'acura' < 'alfa romeo' ... 'volvo' < 'wallace environmental' < 'yugo' < 'smart']"
      ]
     },
     "execution_count": 20,
     "metadata": {},
     "output_type": "execute_result"
    }
   ],
   "source": [
    "ordered_make.cat.rename_categories(\n",
    "    {c:c.lower() for c in ordered_make.cat.categories})"
   ]
  },
  {
   "cell_type": "code",
   "execution_count": 21,
   "id": "243013da-363d-4941-a414-7e9cfbcda1b8",
   "metadata": {
    "tags": []
   },
   "outputs": [
    {
     "data": {
      "text/plain": [
       "0        Alfa Romeo\n",
       "1           Ferrari\n",
       "2             Dodge\n",
       "3             Dodge\n",
       "4            Subaru\n",
       "            ...    \n",
       "41139        Subaru\n",
       "41140        Subaru\n",
       "41141        Subaru\n",
       "41142        Subaru\n",
       "41143        Subaru\n",
       "Name: make, Length: 41144, dtype: category\n",
       "Categories (136, object): ['Acura' < 'Alfa Romeo' < 'AM General' < 'American Motors Corporation' ... 'Volvo' < 'VPG' < 'Wallace Environmental' < 'Yugo']"
      ]
     },
     "execution_count": 21,
     "metadata": {},
     "output_type": "execute_result"
    }
   ],
   "source": [
    "ordered_make.cat.reorder_categories(\n",
    "    sorted(cat_make.cat.categories, key=str.lower))"
   ]
  },
  {
   "cell_type": "code",
   "execution_count": 22,
   "id": "936a4b7e-0e89-4b75-841b-96abbba3a98d",
   "metadata": {},
   "outputs": [
    {
     "data": {
      "text/plain": [
       "Dodge                        17\n",
       "Oldsmobile                    8\n",
       "Ford                          8\n",
       "Buick                         7\n",
       "Chevrolet                     5\n",
       "                             ..\n",
       "Grumman Allied Industries     0\n",
       "Goldacre                      0\n",
       "Geo                           0\n",
       "Genesis                       0\n",
       "smart                         0\n",
       "Name: make, Length: 136, dtype: int64"
      ]
     },
     "execution_count": 22,
     "metadata": {},
     "output_type": "execute_result"
    }
   ],
   "source": [
    "ordered_make.iloc[:100].value_counts()"
   ]
  },
  {
   "cell_type": "code",
   "execution_count": 24,
   "id": "95a2304d-b6a2-4dbb-b3f7-4ab35df186b7",
   "metadata": {
    "tags": []
   },
   "outputs": [
    {
     "data": {
      "text/plain": [
       "make\n",
       "AM General                            NaN\n",
       "ASC Incorporated                      NaN\n",
       "Acura                                 NaN\n",
       "Alfa Romeo                     Alfa Romeo\n",
       "American Motors Corporation           NaN\n",
       "                                  ...    \n",
       "Volkswagen                     Volkswagen\n",
       "Volvo                               Volvo\n",
       "Wallace Environmental                 NaN\n",
       "Yugo                                  NaN\n",
       "smart                                 NaN\n",
       "Name: make, Length: 136, dtype: category\n",
       "Categories (136, object): ['AM General', 'ASC Incorporated', 'Acura', 'Alfa Romeo', ..., 'Volvo', 'Wallace Environmental', 'Yugo', 'smart']"
      ]
     },
     "execution_count": 24,
     "metadata": {},
     "output_type": "execute_result"
    }
   ],
   "source": [
    "(cat_make\n",
    "    .iloc[:100]\n",
    "    .groupby(cat_make.iloc[:100])\n",
    "    .first()\n",
    ")"
   ]
  },
  {
   "cell_type": "code",
   "execution_count": 26,
   "id": "bb28c9fc-a023-483f-8df5-b573966d828e",
   "metadata": {
    "tags": []
   },
   "outputs": [
    {
     "data": {
      "text/plain": [
       "make\n",
       "Alfa Romeo          Alfa Romeo\n",
       "Audi                      Audi\n",
       "BMW                        BMW\n",
       "Buick                    Buick\n",
       "CX Automotive    CX Automotive\n",
       "Cadillac              Cadillac\n",
       "Chevrolet            Chevrolet\n",
       "Chrysler              Chrysler\n",
       "Dodge                    Dodge\n",
       "Ferrari                Ferrari\n",
       "Ford                      Ford\n",
       "Hyundai                Hyundai\n",
       "Infiniti              Infiniti\n",
       "Lexus                    Lexus\n",
       "Mazda                    Mazda\n",
       "Mercury                Mercury\n",
       "Nissan                  Nissan\n",
       "Oldsmobile          Oldsmobile\n",
       "Plymouth              Plymouth\n",
       "Pontiac                Pontiac\n",
       "Rolls-Royce        Rolls-Royce\n",
       "Subaru                  Subaru\n",
       "Toyota                  Toyota\n",
       "Volkswagen          Volkswagen\n",
       "Volvo                    Volvo\n",
       "Name: make, dtype: object"
      ]
     },
     "execution_count": 26,
     "metadata": {},
     "output_type": "execute_result"
    }
   ],
   "source": [
    "(make\n",
    "    .iloc[:100]\n",
    "    .groupby(make.iloc[:100])\n",
    "    .first()\n",
    ")"
   ]
  },
  {
   "cell_type": "code",
   "execution_count": 27,
   "id": "37dbadd3-4772-4146-a08d-06f23c613156",
   "metadata": {
    "tags": []
   },
   "outputs": [
    {
     "data": {
      "text/plain": [
       "make\n",
       "Alfa Romeo          Alfa Romeo\n",
       "Ferrari                Ferrari\n",
       "Dodge                    Dodge\n",
       "Subaru                  Subaru\n",
       "Toyota                  Toyota\n",
       "Volkswagen          Volkswagen\n",
       "Volvo                    Volvo\n",
       "Audi                      Audi\n",
       "BMW                        BMW\n",
       "Buick                    Buick\n",
       "Cadillac              Cadillac\n",
       "Chevrolet            Chevrolet\n",
       "Chrysler              Chrysler\n",
       "CX Automotive    CX Automotive\n",
       "Nissan                  Nissan\n",
       "Ford                      Ford\n",
       "Hyundai                Hyundai\n",
       "Infiniti              Infiniti\n",
       "Lexus                    Lexus\n",
       "Mercury                Mercury\n",
       "Mazda                    Mazda\n",
       "Oldsmobile          Oldsmobile\n",
       "Plymouth              Plymouth\n",
       "Pontiac                Pontiac\n",
       "Rolls-Royce        Rolls-Royce\n",
       "Name: make, dtype: category\n",
       "Categories (136, object): ['AM General', 'ASC Incorporated', 'Acura', 'Alfa Romeo', ..., 'Volvo', 'Wallace Environmental', 'Yugo', 'smart']"
      ]
     },
     "execution_count": 27,
     "metadata": {},
     "output_type": "execute_result"
    }
   ],
   "source": [
    "(cat_make\n",
    "    .iloc[:100]\n",
    "    .groupby(cat_make.iloc[:100], observed=True)\n",
    "    .first()\n",
    ")"
   ]
  },
  {
   "cell_type": "code",
   "execution_count": 28,
   "id": "59f6ac45-1937-42b5-a714-d9d3986fbcc4",
   "metadata": {
    "tags": []
   },
   "outputs": [
    {
     "data": {
      "text/plain": [
       "'Alfa Romeo'"
      ]
     },
     "execution_count": 28,
     "metadata": {},
     "output_type": "execute_result"
    }
   ],
   "source": [
    "ordered_make.iloc[0]"
   ]
  },
  {
   "cell_type": "code",
   "execution_count": 29,
   "id": "8f9e9e85-9921-4055-8c63-e66986b95828",
   "metadata": {
    "tags": []
   },
   "outputs": [
    {
     "data": {
      "text/plain": [
       "0    Alfa Romeo\n",
       "Name: make, dtype: category\n",
       "Categories (136, object): ['AM General' < 'ASC Incorporated' < 'Acura' < 'Alfa Romeo' ... 'Volvo' < 'Wallace Environmental' < 'Yugo' < 'smart']"
      ]
     },
     "execution_count": 29,
     "metadata": {},
     "output_type": "execute_result"
    }
   ],
   "source": [
    "ordered_make.iloc[[0]]"
   ]
  },
  {
   "cell_type": "code",
   "execution_count": 31,
   "id": "7d5691ab-339d-4bda-804f-411dc1ea427b",
   "metadata": {
    "tags": []
   },
   "outputs": [],
   "source": [
    "def generalize_topn(ser, n=5, other='Other'):\n",
    "    topn = ser.value_counts().index[:n]\n",
    "    if isinstance(ser.dtype, pd.CategoricalDtype):\n",
    "        ser = ser.cat.set_categories(\n",
    "            topn.set_categories(list(topn)+[other]))\n",
    "    return ser.where(ser.isin(topn), other)"
   ]
  },
  {
   "cell_type": "code",
   "execution_count": 32,
   "id": "3e52f4b4-c357-4458-8f78-67b39f999450",
   "metadata": {
    "tags": []
   },
   "outputs": [
    {
     "data": {
      "text/plain": [
       "0            NA\n",
       "1            NA\n",
       "2         Dodge\n",
       "3         Dodge\n",
       "4        Subaru\n",
       "          ...  \n",
       "41139    Subaru\n",
       "41140    Subaru\n",
       "41141    Subaru\n",
       "41142    Subaru\n",
       "41143    Subaru\n",
       "Name: make, Length: 41144, dtype: category\n",
       "Categories (21, object): ['Chevrolet', 'Ford', 'Dodge', 'GMC', ..., 'Volvo', 'Hyundai', 'Chrysler', 'NA']"
      ]
     },
     "execution_count": 32,
     "metadata": {},
     "output_type": "execute_result"
    }
   ],
   "source": [
    "cat_make.pipe(generalize_topn, n=20, other='NA')"
   ]
  },
  {
   "cell_type": "code",
   "execution_count": 35,
   "id": "db26c3f1-9fea-4256-ad02-7db223d7202b",
   "metadata": {
    "tags": []
   },
   "outputs": [],
   "source": [
    "def generalize_mapping(ser, mapping, default):\n",
    "    seen = None\n",
    "    res = ser.astype(str)\n",
    "    for old, new in mapping.items():\n",
    "        mask = ser.str.contains(old)\n",
    "        if seen is None:\n",
    "            seen = mask\n",
    "        else:\n",
    "            seen |= mask\n",
    "        res = res.where(~mask, new)\n",
    "    res = res.where(seen, default)\n",
    "    return res.astype('category')"
   ]
  },
  {
   "cell_type": "code",
   "execution_count": 36,
   "id": "c664a48d-455d-4b05-b923-4bc4934f45bc",
   "metadata": {
    "tags": []
   },
   "outputs": [
    {
     "data": {
      "text/plain": [
       "0        Other\n",
       "1        Other\n",
       "2           US\n",
       "3           US\n",
       "4        Other\n",
       "         ...  \n",
       "41139    Other\n",
       "41140    Other\n",
       "41141    Other\n",
       "41142    Other\n",
       "41143    Other\n",
       "Name: make, Length: 41144, dtype: category\n",
       "Categories (3, object): ['German', 'Other', 'US']"
      ]
     },
     "execution_count": 36,
     "metadata": {},
     "output_type": "execute_result"
    }
   ],
   "source": [
    "generalize_mapping(cat_make, {'Ford': 'US', 'Tesla': 'US',\n",
    "                             'Chevrolet': 'US', 'Dodge': 'US',\n",
    "                             'Oldsmobile': 'US', 'Plymouth': 'US',\n",
    "                             'BMW': 'German'}, 'Other')"
   ]
  },
  {
   "cell_type": "code",
   "execution_count": null,
   "id": "bf0616ee-883d-4e95-9cd3-84398c31c33a",
   "metadata": {},
   "outputs": [],
   "source": []
  }
 ],
 "metadata": {
  "kernelspec": {
   "display_name": "Python 3 (ipykernel)",
   "language": "python",
   "name": "python3"
  },
  "language_info": {
   "codemirror_mode": {
    "name": "ipython",
    "version": 3
   },
   "file_extension": ".py",
   "mimetype": "text/x-python",
   "name": "python",
   "nbconvert_exporter": "python",
   "pygments_lexer": "ipython3",
   "version": "3.8.18"
  }
 },
 "nbformat": 4,
 "nbformat_minor": 5
}
