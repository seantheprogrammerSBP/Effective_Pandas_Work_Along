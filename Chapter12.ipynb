{
 "cells": [
  {
   "cell_type": "code",
   "execution_count": 1,
   "id": "e58c0c03-2a89-4bac-ac3b-df0449410e53",
   "metadata": {
    "tags": []
   },
   "outputs": [],
   "source": [
    "import numpy as np\n",
    "import pandas as pd"
   ]
  },
  {
   "cell_type": "code",
   "execution_count": 2,
   "id": "63d0a52c-a173-40e0-905e-23cc2edbf7a4",
   "metadata": {
    "tags": []
   },
   "outputs": [],
   "source": [
    "col = pd.Series(['2015-03-08 08:00:00+00:00',\n",
    "    '2015-03-08 08:30:00+00:00',\n",
    "    '2015-03-08 09:00:00+00:00',\n",
    "    '2015-03-08 09:30:00+00:00',\n",
    "    '2015-11-01 06:30:00+00:00',\n",
    "    '2015-11-01 07:00:00+00:00',\n",
    "    '2015-11-01 07:30:00+00:00',\n",
    "    '2015-11-01 08:00:00+00:00',\n",
    "    '2015-11-01 08:30:00+00:00',\n",
    "    '2015-11-01 08:00:00+00:00',\n",
    "    '2015-11-01 08:30:00+00:00',\n",
    "    '2015-11-01 09:00:00+00:00',\n",
    "    '2015-11-01 09:30:00+00:00',\n",
    "    '2015-11-01 10:00:00+00:00'])"
   ]
  },
  {
   "cell_type": "code",
   "execution_count": 3,
   "id": "e1cf452c-64b3-4728-9a78-7d02a0dc3846",
   "metadata": {
    "tags": []
   },
   "outputs": [],
   "source": [
    "utc_s = pd.to_datetime(col, utc=True)"
   ]
  },
  {
   "cell_type": "code",
   "execution_count": 4,
   "id": "cb3c66ad-6b26-4de6-a57e-c00f7107dfa2",
   "metadata": {
    "tags": []
   },
   "outputs": [
    {
     "data": {
      "text/plain": [
       "0    2015-03-08 08:00:00+00:00\n",
       "1    2015-03-08 08:30:00+00:00\n",
       "2    2015-03-08 09:00:00+00:00\n",
       "3    2015-03-08 09:30:00+00:00\n",
       "4    2015-11-01 06:30:00+00:00\n",
       "5    2015-11-01 07:00:00+00:00\n",
       "6    2015-11-01 07:30:00+00:00\n",
       "7    2015-11-01 08:00:00+00:00\n",
       "8    2015-11-01 08:30:00+00:00\n",
       "9    2015-11-01 08:00:00+00:00\n",
       "10   2015-11-01 08:30:00+00:00\n",
       "11   2015-11-01 09:00:00+00:00\n",
       "12   2015-11-01 09:30:00+00:00\n",
       "13   2015-11-01 10:00:00+00:00\n",
       "dtype: datetime64[ns, UTC]"
      ]
     },
     "execution_count": 4,
     "metadata": {},
     "output_type": "execute_result"
    }
   ],
   "source": [
    "utc_s"
   ]
  },
  {
   "cell_type": "code",
   "execution_count": 6,
   "id": "6e52b287-1f37-4e59-99ed-5fdb0b7c22fe",
   "metadata": {
    "tags": []
   },
   "outputs": [
    {
     "data": {
      "text/plain": [
       "0    2015-03-08 01:00:00-07:00\n",
       "1    2015-03-08 01:30:00-07:00\n",
       "2    2015-03-08 03:00:00-06:00\n",
       "3    2015-03-08 03:30:00-06:00\n",
       "4    2015-11-01 00:30:00-06:00\n",
       "5    2015-11-01 01:00:00-06:00\n",
       "6    2015-11-01 01:30:00-06:00\n",
       "7    2015-11-01 01:00:00-07:00\n",
       "8    2015-11-01 01:30:00-07:00\n",
       "9    2015-11-01 01:00:00-07:00\n",
       "10   2015-11-01 01:30:00-07:00\n",
       "11   2015-11-01 02:00:00-07:00\n",
       "12   2015-11-01 02:30:00-07:00\n",
       "13   2015-11-01 03:00:00-07:00\n",
       "dtype: datetime64[ns, America/Denver]"
      ]
     },
     "execution_count": 6,
     "metadata": {},
     "output_type": "execute_result"
    }
   ],
   "source": [
    "utc_s.dt.tz_convert('America/Denver')"
   ]
  },
  {
   "cell_type": "code",
   "execution_count": 7,
   "id": "b7c31942-2306-4620-9c92-52d945da2401",
   "metadata": {
    "tags": []
   },
   "outputs": [],
   "source": [
    "s = pd.Series(['2015-03-08 01:00:00-07:00',\n",
    " '2015-03-08 01:30:00-07:00',\n",
    " '2015-03-08 03:00:00-06:00',\n",
    " '2015-03-08 03:30:00-06:00',\n",
    " '2015-11-01 00:30:00-06:00',\n",
    " '2015-11-01 01:00:00-06:00',\n",
    " '2015-11-01 01:30:00-06:00',\n",
    " '2015-11-01 01:00:00-07:00',\n",
    " '2015-11-01 01:30:00-07:00',\n",
    " '2015-11-01 01:00:00-07:00',\n",
    " '2015-11-01 01:30:00-07:00',\n",
    " '2015-11-01 02:00:00-07:00',\n",
    " '2015-11-01 02:30:00-07:00',\n",
    " '2015-11-01 03:00:00-07:00'])"
   ]
  },
  {
   "cell_type": "code",
   "execution_count": 8,
   "id": "4b7a966a-8160-4055-b471-ddc330d22b78",
   "metadata": {
    "tags": []
   },
   "outputs": [
    {
     "data": {
      "text/plain": [
       "0    2015-03-08 01:00:00-07:00\n",
       "1    2015-03-08 01:30:00-07:00\n",
       "2    2015-03-08 03:00:00-06:00\n",
       "3    2015-03-08 03:30:00-06:00\n",
       "4    2015-11-01 00:30:00-06:00\n",
       "5    2015-11-01 01:00:00-06:00\n",
       "6    2015-11-01 01:30:00-06:00\n",
       "7    2015-11-01 01:00:00-07:00\n",
       "8    2015-11-01 01:30:00-07:00\n",
       "9    2015-11-01 01:00:00-07:00\n",
       "10   2015-11-01 01:30:00-07:00\n",
       "11   2015-11-01 02:00:00-07:00\n",
       "12   2015-11-01 02:30:00-07:00\n",
       "13   2015-11-01 03:00:00-07:00\n",
       "dtype: datetime64[ns, America/Denver]"
      ]
     },
     "execution_count": 8,
     "metadata": {},
     "output_type": "execute_result"
    }
   ],
   "source": [
    "pd.to_datetime(s, utc=True).dt.tz_convert('America/Denver')"
   ]
  },
  {
   "cell_type": "code",
   "execution_count": 9,
   "id": "e0bb1526-4c8c-4cec-aed9-d730e6c3b5ae",
   "metadata": {
    "tags": []
   },
   "outputs": [],
   "source": [
    "time = pd.Series(['2015-03-08 01:00:00',\n",
    " '2015-03-08 01:30:00',\n",
    " '2015-03-08 02:00:00',\n",
    " '2015-03-08 02:30:00',\n",
    " '2015-03-08 03:00:00',\n",
    " '2015-03-08 02:00:00',\n",
    " '2015-03-08 02:30:00',\n",
    " '2015-03-08 03:00:00',\n",
    " '2015-03-08 03:30:00',\n",
    " '2015-11-01 00:30:00',\n",
    " '2015-11-01 01:00:00',\n",
    " '2015-11-01 01:30:00',\n",
    " '2015-11-01 02:00:00',\n",
    " '2015-11-01 02:30:00',\n",
    " '2015-11-01 01:00:00',\n",
    " '2015-11-01 01:30:00',\n",
    " '2015-11-01 02:00:00',\n",
    " '2015-11-01 02:30:00',\n",
    " '2015-11-01 03:00:00'])"
   ]
  },
  {
   "cell_type": "code",
   "execution_count": 10,
   "id": "4ac661e3-24c7-4328-a4d3-65b6a3bc3e0b",
   "metadata": {
    "tags": []
   },
   "outputs": [],
   "source": [
    "offset = pd.Series([-7, -7, -7, -7, -7, -6, -6,\n",
    "  -6, -6, -6, -6, -6, -6, -6, -7, -7, -7, -7, -7])"
   ]
  },
  {
   "cell_type": "code",
   "execution_count": 11,
   "id": "9c38464f-9718-44a9-973a-ee388d4a1585",
   "metadata": {
    "tags": []
   },
   "outputs": [
    {
     "data": {
      "text/plain": [
       "0    2015-03-07 18:00:07-07:00\n",
       "1    2015-03-07 18:30:07-07:00\n",
       "2    2015-03-07 19:00:07-07:00\n",
       "3    2015-03-07 19:30:07-07:00\n",
       "4    2015-03-07 20:00:07-07:00\n",
       "5    2015-03-07 19:00:06-07:00\n",
       "6    2015-03-07 19:30:06-07:00\n",
       "7    2015-03-07 20:00:06-07:00\n",
       "8    2015-03-07 20:30:06-07:00\n",
       "9    2015-10-31 18:30:06-06:00\n",
       "10   2015-10-31 19:00:06-06:00\n",
       "11   2015-10-31 19:30:06-06:00\n",
       "12   2015-10-31 20:00:06-06:00\n",
       "13   2015-10-31 20:30:06-06:00\n",
       "14   2015-10-31 19:00:07-06:00\n",
       "15   2015-10-31 19:30:07-06:00\n",
       "16   2015-10-31 20:00:07-06:00\n",
       "17   2015-10-31 20:30:07-06:00\n",
       "18   2015-10-31 21:00:07-06:00\n",
       "dtype: datetime64[ns, America/Denver]"
      ]
     },
     "execution_count": 11,
     "metadata": {},
     "output_type": "execute_result"
    }
   ],
   "source": [
    "(pd.to_datetime(time)\n",
    "    .groupby(offset)\n",
    "    .transform(lambda s: s.dt.tz_localize(s.name)\n",
    "              .dt.tz_convert('America/Denver'))\n",
    ")"
   ]
  },
  {
   "cell_type": "code",
   "execution_count": 12,
   "id": "f6618026-9585-44d6-96c6-e2b49a0eee24",
   "metadata": {
    "tags": []
   },
   "outputs": [],
   "source": [
    "offset = offset.replace({-7:'-07:00', -6:'-06:00'})"
   ]
  },
  {
   "cell_type": "code",
   "execution_count": 14,
   "id": "14148984-6daa-4314-ad59-a61a06e57b14",
   "metadata": {
    "tags": []
   },
   "outputs": [],
   "source": [
    "local = (pd.to_datetime(time)\n",
    "        .groupby(offset)\n",
    "        .transform(lambda s: s.dt.tz_localize(s.name)\n",
    "                  .dt.tz_convert('America/Denver'))\n",
    ")"
   ]
  },
  {
   "cell_type": "code",
   "execution_count": 15,
   "id": "a9f680e4-4418-49c6-9453-11962d687c67",
   "metadata": {
    "tags": []
   },
   "outputs": [
    {
     "data": {
      "text/plain": [
       "0    2015-03-08 01:00:00-07:00\n",
       "1    2015-03-08 01:30:00-07:00\n",
       "2    2015-03-08 03:00:00-06:00\n",
       "3    2015-03-08 03:30:00-06:00\n",
       "4    2015-03-08 04:00:00-06:00\n",
       "5    2015-03-08 01:00:00-07:00\n",
       "6    2015-03-08 01:30:00-07:00\n",
       "7    2015-03-08 03:00:00-06:00\n",
       "8    2015-03-08 03:30:00-06:00\n",
       "9    2015-11-01 00:30:00-06:00\n",
       "10   2015-11-01 01:00:00-06:00\n",
       "11   2015-11-01 01:30:00-06:00\n",
       "12   2015-11-01 01:00:00-07:00\n",
       "13   2015-11-01 01:30:00-07:00\n",
       "14   2015-11-01 01:00:00-07:00\n",
       "15   2015-11-01 01:30:00-07:00\n",
       "16   2015-11-01 02:00:00-07:00\n",
       "17   2015-11-01 02:30:00-07:00\n",
       "18   2015-11-01 03:00:00-07:00\n",
       "dtype: datetime64[ns, America/Denver]"
      ]
     },
     "execution_count": 15,
     "metadata": {},
     "output_type": "execute_result"
    }
   ],
   "source": [
    "local"
   ]
  },
  {
   "cell_type": "code",
   "execution_count": 16,
   "id": "57ea59ca-39dd-4d74-9d23-20cc8503c9df",
   "metadata": {
    "tags": []
   },
   "outputs": [
    {
     "data": {
      "text/plain": [
       "0    2015-03-08 08:00:00+00:00\n",
       "1    2015-03-08 08:30:00+00:00\n",
       "2    2015-03-08 09:00:00+00:00\n",
       "3    2015-03-08 09:30:00+00:00\n",
       "4    2015-03-08 10:00:00+00:00\n",
       "5    2015-03-08 08:00:00+00:00\n",
       "6    2015-03-08 08:30:00+00:00\n",
       "7    2015-03-08 09:00:00+00:00\n",
       "8    2015-03-08 09:30:00+00:00\n",
       "9    2015-11-01 06:30:00+00:00\n",
       "10   2015-11-01 07:00:00+00:00\n",
       "11   2015-11-01 07:30:00+00:00\n",
       "12   2015-11-01 08:00:00+00:00\n",
       "13   2015-11-01 08:30:00+00:00\n",
       "14   2015-11-01 08:00:00+00:00\n",
       "15   2015-11-01 08:30:00+00:00\n",
       "16   2015-11-01 09:00:00+00:00\n",
       "17   2015-11-01 09:30:00+00:00\n",
       "18   2015-11-01 10:00:00+00:00\n",
       "dtype: datetime64[ns, UTC]"
      ]
     },
     "execution_count": 16,
     "metadata": {},
     "output_type": "execute_result"
    }
   ],
   "source": [
    "local.dt.tz_convert('UTC')"
   ]
  },
  {
   "cell_type": "code",
   "execution_count": 17,
   "id": "6b2d0b28-b5d7-41b8-9ef8-9435371fc54a",
   "metadata": {
    "tags": []
   },
   "outputs": [],
   "source": [
    "secs = local.view(int).floordiv(1e9).astype(int)"
   ]
  },
  {
   "cell_type": "code",
   "execution_count": 18,
   "id": "603c42b5-5c01-4f0d-9ee8-d10ea945a492",
   "metadata": {
    "tags": []
   },
   "outputs": [
    {
     "data": {
      "text/plain": [
       "0     1425801600\n",
       "1     1425803400\n",
       "2     1425805200\n",
       "3     1425807000\n",
       "4     1425808800\n",
       "5     1425801600\n",
       "6     1425803400\n",
       "7     1425805200\n",
       "8     1425807000\n",
       "9     1446359400\n",
       "10    1446361200\n",
       "11    1446363000\n",
       "12    1446364800\n",
       "13    1446366600\n",
       "14    1446364800\n",
       "15    1446366600\n",
       "16    1446368400\n",
       "17    1446370200\n",
       "18    1446372000\n",
       "dtype: int64"
      ]
     },
     "execution_count": 18,
     "metadata": {},
     "output_type": "execute_result"
    }
   ],
   "source": [
    "secs"
   ]
  },
  {
   "cell_type": "code",
   "execution_count": 19,
   "id": "f6de4073-6194-41e8-9a9f-ad0e13ff888d",
   "metadata": {
    "tags": []
   },
   "outputs": [
    {
     "data": {
      "text/plain": [
       "0    2015-03-08 08:00:00+00:00\n",
       "1    2015-03-08 08:30:00+00:00\n",
       "2    2015-03-08 09:00:00+00:00\n",
       "3    2015-03-08 09:30:00+00:00\n",
       "4    2015-03-08 10:00:00+00:00\n",
       "5    2015-03-08 08:00:00+00:00\n",
       "6    2015-03-08 08:30:00+00:00\n",
       "7    2015-03-08 09:00:00+00:00\n",
       "8    2015-03-08 09:30:00+00:00\n",
       "9    2015-11-01 06:30:00+00:00\n",
       "10   2015-11-01 07:00:00+00:00\n",
       "11   2015-11-01 07:30:00+00:00\n",
       "12   2015-11-01 08:00:00+00:00\n",
       "13   2015-11-01 08:30:00+00:00\n",
       "14   2015-11-01 08:00:00+00:00\n",
       "15   2015-11-01 08:30:00+00:00\n",
       "16   2015-11-01 09:00:00+00:00\n",
       "17   2015-11-01 09:30:00+00:00\n",
       "18   2015-11-01 10:00:00+00:00\n",
       "dtype: datetime64[ns, UTC]"
      ]
     },
     "execution_count": 19,
     "metadata": {},
     "output_type": "execute_result"
    }
   ],
   "source": [
    "(pd.to_datetime(secs, unit='s').dt.tz_localize('UTC'))"
   ]
  },
  {
   "cell_type": "code",
   "execution_count": 20,
   "id": "aec72b05-0e94-437e-8d07-1b63418c6d92",
   "metadata": {
    "tags": []
   },
   "outputs": [],
   "source": [
    "url = 'https://github.com/mattharrison/datasets'+\\\n",
    "    '/raw/master/data/alta-noaa-1980-2019.csv'"
   ]
  },
  {
   "cell_type": "code",
   "execution_count": 21,
   "id": "93d229c2-123e-4c3d-bbb3-efa8628b75f9",
   "metadata": {
    "tags": []
   },
   "outputs": [],
   "source": [
    "alta_df = pd.read_csv(url)"
   ]
  },
  {
   "cell_type": "code",
   "execution_count": 22,
   "id": "2a52db2b-7bb6-432b-b1ad-ef8b8585cbd1",
   "metadata": {
    "tags": []
   },
   "outputs": [],
   "source": [
    "dates = pd.to_datetime(alta_df.DATE)"
   ]
  },
  {
   "cell_type": "code",
   "execution_count": 23,
   "id": "51fcff74-e8da-457f-928a-20d80f4b1a18",
   "metadata": {
    "tags": []
   },
   "outputs": [
    {
     "data": {
      "text/plain": [
       "0       1980-01-01\n",
       "1       1980-01-02\n",
       "2       1980-01-03\n",
       "3       1980-01-04\n",
       "4       1980-01-05\n",
       "           ...    \n",
       "14155   2019-09-03\n",
       "14156   2019-09-04\n",
       "14157   2019-09-05\n",
       "14158   2019-09-06\n",
       "14159   2019-09-07\n",
       "Name: DATE, Length: 14160, dtype: datetime64[ns]"
      ]
     },
     "execution_count": 23,
     "metadata": {},
     "output_type": "execute_result"
    }
   ],
   "source": [
    "dates"
   ]
  },
  {
   "cell_type": "code",
   "execution_count": 24,
   "id": "0e5e5c42-0034-4963-a4ef-0b7187430756",
   "metadata": {
    "tags": []
   },
   "outputs": [
    {
     "data": {
      "text/plain": [
       "Index(['STATION', 'NAME', 'LATITUDE', 'LONGITUDE', 'ELEVATION', 'DATE', 'DAPR',\n",
       "       'DASF', 'MDPR', 'MDSF', 'PRCP', 'SNOW', 'SNWD', 'TMAX', 'TMIN', 'TOBS',\n",
       "       'WT01', 'WT03', 'WT04', 'WT05', 'WT06', 'WT11'],\n",
       "      dtype='object')"
      ]
     },
     "execution_count": 24,
     "metadata": {},
     "output_type": "execute_result"
    }
   ],
   "source": [
    "alta_df.columns"
   ]
  },
  {
   "cell_type": "code",
   "execution_count": 25,
   "id": "8344435e-dbe6-4679-9917-5d39ebd23ce6",
   "metadata": {
    "tags": []
   },
   "outputs": [
    {
     "data": {
      "text/plain": [
       "0           Martes\n",
       "1        Miércoles\n",
       "2           Jueves\n",
       "3          Viernes\n",
       "4           Sábado\n",
       "           ...    \n",
       "14155       Martes\n",
       "14156    Miércoles\n",
       "14157       Jueves\n",
       "14158      Viernes\n",
       "14159       Sábado\n",
       "Name: DATE, Length: 14160, dtype: object"
      ]
     },
     "execution_count": 25,
     "metadata": {},
     "output_type": "execute_result"
    }
   ],
   "source": [
    "dates.dt.day_name('es_ES')"
   ]
  },
  {
   "cell_type": "code",
   "execution_count": 26,
   "id": "ad1ec9a8-72a4-41b1-a3bd-cf67ede17004",
   "metadata": {
    "tags": []
   },
   "outputs": [
    {
     "data": {
      "text/plain": [
       "0        False\n",
       "1        False\n",
       "2        False\n",
       "3        False\n",
       "4        False\n",
       "         ...  \n",
       "14155    False\n",
       "14156    False\n",
       "14157    False\n",
       "14158    False\n",
       "14159    False\n",
       "Name: DATE, Length: 14160, dtype: bool"
      ]
     },
     "execution_count": 26,
     "metadata": {},
     "output_type": "execute_result"
    }
   ],
   "source": [
    "dates.dt.is_month_end"
   ]
  },
  {
   "cell_type": "code",
   "execution_count": 27,
   "id": "8f305969-2f08-4b7d-813f-ddb405ffe348",
   "metadata": {
    "tags": []
   },
   "outputs": [
    {
     "data": {
      "text/plain": [
       "0        01/01/80\n",
       "1        02/01/80\n",
       "2        03/01/80\n",
       "3        04/01/80\n",
       "4        05/01/80\n",
       "           ...   \n",
       "14155    03/09/19\n",
       "14156    04/09/19\n",
       "14157    05/09/19\n",
       "14158    06/09/19\n",
       "14159    07/09/19\n",
       "Name: DATE, Length: 14160, dtype: object"
      ]
     },
     "execution_count": 27,
     "metadata": {},
     "output_type": "execute_result"
    }
   ],
   "source": [
    "dates.dt.strftime('%d/%m/%y')"
   ]
  },
  {
   "cell_type": "code",
   "execution_count": null,
   "id": "811c2045-7019-4f95-aa5f-0e22fdf62520",
   "metadata": {},
   "outputs": [],
   "source": []
  }
 ],
 "metadata": {
  "kernelspec": {
   "display_name": "Python 3 (ipykernel)",
   "language": "python",
   "name": "python3"
  },
  "language_info": {
   "codemirror_mode": {
    "name": "ipython",
    "version": 3
   },
   "file_extension": ".py",
   "mimetype": "text/x-python",
   "name": "python",
   "nbconvert_exporter": "python",
   "pygments_lexer": "ipython3",
   "version": "3.8.18"
  }
 },
 "nbformat": 4,
 "nbformat_minor": 5
}
