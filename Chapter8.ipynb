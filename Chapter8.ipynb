{
 "cells": [
  {
   "cell_type": "code",
   "execution_count": 1,
   "id": "4ea595ad-b88f-4c61-8e5b-25b8b8e6fca3",
   "metadata": {
    "tags": []
   },
   "outputs": [],
   "source": [
    "import numpy as np\n",
    "import pandas as pd"
   ]
  },
  {
   "cell_type": "code",
   "execution_count": 2,
   "id": "9711d88b-7277-49f4-90e4-973dc64aac9b",
   "metadata": {
    "tags": []
   },
   "outputs": [
    {
     "name": "stderr",
     "output_type": "stream",
     "text": [
      "/var/folders/0m/djy5jf494nl4fkspl_602jb00000gn/T/ipykernel_1175/1193079992.py:3: DtypeWarning: Columns (68,70,71,72,73,74,76,79) have mixed types. Specify dtype option on import or set low_memory=False.\n",
      "  df = pd.read_csv(url)\n"
     ]
    }
   ],
   "source": [
    "url = 'https://github.com/mattharrison/datasets/raw/master/data/' \\\n",
    "    'vehicles.csv.zip'\n",
    "df = pd.read_csv(url)"
   ]
  },
  {
   "cell_type": "code",
   "execution_count": 3,
   "id": "88545e16-54a5-4465-b482-c81ba9b13772",
   "metadata": {
    "tags": []
   },
   "outputs": [],
   "source": [
    "city_mpg = df.city08\n",
    "highway_mpg = df.highway08"
   ]
  },
  {
   "cell_type": "code",
   "execution_count": 4,
   "id": "13a327ed-858f-4f19-b57b-400d915d3217",
   "metadata": {
    "tags": []
   },
   "outputs": [
    {
     "data": {
      "text/plain": [
       "0        19\n",
       "1         9\n",
       "2        23\n",
       "3        10\n",
       "4        17\n",
       "         ..\n",
       "41139    19\n",
       "41140    20\n",
       "41141    18\n",
       "41142    18\n",
       "41143    16\n",
       "Name: city08, Length: 41144, dtype: Int64"
      ]
     },
     "execution_count": 4,
     "metadata": {},
     "output_type": "execute_result"
    }
   ],
   "source": [
    "city_mpg.convert_dtypes()"
   ]
  },
  {
   "cell_type": "code",
   "execution_count": 5,
   "id": "6a1ea4ce-8ae9-4313-a946-0b7f49c83173",
   "metadata": {
    "tags": []
   },
   "outputs": [
    {
     "data": {
      "text/plain": [
       "0        19\n",
       "1         9\n",
       "2        23\n",
       "3        10\n",
       "4        17\n",
       "         ..\n",
       "41139    19\n",
       "41140    20\n",
       "41141    18\n",
       "41142    18\n",
       "41143    16\n",
       "Name: city08, Length: 41144, dtype: Int16"
      ]
     },
     "execution_count": 5,
     "metadata": {},
     "output_type": "execute_result"
    }
   ],
   "source": [
    "city_mpg.astype('Int16')"
   ]
  },
  {
   "cell_type": "code",
   "execution_count": 6,
   "id": "c7b8c005-6568-4c83-a675-82cf69f01e98",
   "metadata": {
    "tags": []
   },
   "outputs": [
    {
     "data": {
      "text/plain": [
       "iinfo(min=-9223372036854775808, max=9223372036854775807, dtype=int64)"
      ]
     },
     "execution_count": 6,
     "metadata": {},
     "output_type": "execute_result"
    }
   ],
   "source": [
    "np.iinfo('int64')"
   ]
  },
  {
   "cell_type": "code",
   "execution_count": 7,
   "id": "f6d9c61e-d913-432b-8652-5dcadeea27c2",
   "metadata": {
    "tags": []
   },
   "outputs": [
    {
     "data": {
      "text/plain": [
       "iinfo(min=0, max=255, dtype=uint8)"
      ]
     },
     "execution_count": 7,
     "metadata": {},
     "output_type": "execute_result"
    }
   ],
   "source": [
    "np.iinfo('uint8')"
   ]
  },
  {
   "cell_type": "code",
   "execution_count": 9,
   "id": "0342eae8-43f6-4583-9ec7-1a9c64f2449e",
   "metadata": {
    "tags": []
   },
   "outputs": [
    {
     "data": {
      "text/plain": [
       "finfo(resolution=0.001, min=-6.55040e+04, max=6.55040e+04, dtype=float16)"
      ]
     },
     "execution_count": 9,
     "metadata": {},
     "output_type": "execute_result"
    }
   ],
   "source": [
    "np.finfo('float16')"
   ]
  },
  {
   "cell_type": "code",
   "execution_count": 10,
   "id": "1127e2fb-7079-4c3c-9cff-20202dafe000",
   "metadata": {
    "tags": []
   },
   "outputs": [
    {
     "data": {
      "text/plain": [
       "finfo(resolution=1e-15, min=-1.7976931348623157e+308, max=1.7976931348623157e+308, dtype=float64)"
      ]
     },
     "execution_count": 10,
     "metadata": {},
     "output_type": "execute_result"
    }
   ],
   "source": [
    "np.finfo('float64')"
   ]
  },
  {
   "cell_type": "code",
   "execution_count": 11,
   "id": "9baabb92-5793-4f86-bcb5-908345a34f93",
   "metadata": {
    "tags": []
   },
   "outputs": [
    {
     "data": {
      "text/plain": [
       "329152"
      ]
     },
     "execution_count": 11,
     "metadata": {},
     "output_type": "execute_result"
    }
   ],
   "source": [
    "city_mpg.nbytes"
   ]
  },
  {
   "cell_type": "code",
   "execution_count": 12,
   "id": "ebd9274f-b7a1-4cf2-b2a3-51f2b0c9046c",
   "metadata": {
    "tags": []
   },
   "outputs": [
    {
     "data": {
      "text/plain": [
       "123432"
      ]
     },
     "execution_count": 12,
     "metadata": {},
     "output_type": "execute_result"
    }
   ],
   "source": [
    "city_mpg.astype('Int16').nbytes"
   ]
  },
  {
   "cell_type": "code",
   "execution_count": 13,
   "id": "5fa03676-e7a4-41d9-8933-4de9e85ec946",
   "metadata": {
    "tags": []
   },
   "outputs": [],
   "source": [
    "make = df.make"
   ]
  },
  {
   "cell_type": "code",
   "execution_count": 14,
   "id": "6851dbb8-704b-48dd-bd8f-97718356551d",
   "metadata": {
    "tags": []
   },
   "outputs": [
    {
     "data": {
      "text/plain": [
       "329152"
      ]
     },
     "execution_count": 14,
     "metadata": {},
     "output_type": "execute_result"
    }
   ],
   "source": [
    "make.nbytes"
   ]
  },
  {
   "cell_type": "code",
   "execution_count": 15,
   "id": "ac106b47-49d8-4f87-bcaf-b1d29c44a9ca",
   "metadata": {
    "tags": []
   },
   "outputs": [
    {
     "data": {
      "text/plain": [
       "329280"
      ]
     },
     "execution_count": 15,
     "metadata": {},
     "output_type": "execute_result"
    }
   ],
   "source": [
    "make.memory_usage()"
   ]
  },
  {
   "cell_type": "code",
   "execution_count": 16,
   "id": "c0c28712-9851-419a-8089-3a1d3ea664f7",
   "metadata": {
    "tags": []
   },
   "outputs": [
    {
     "data": {
      "text/plain": [
       "2606395"
      ]
     },
     "execution_count": 16,
     "metadata": {},
     "output_type": "execute_result"
    }
   ],
   "source": [
    "make.memory_usage(deep=True)"
   ]
  },
  {
   "cell_type": "code",
   "execution_count": 17,
   "id": "05499a57-304b-4dc2-ac4c-1f489d2b084d",
   "metadata": {
    "tags": []
   },
   "outputs": [
    {
     "data": {
      "text/plain": [
       "95888"
      ]
     },
     "execution_count": 17,
     "metadata": {},
     "output_type": "execute_result"
    }
   ],
   "source": [
    "(make\n",
    "    .astype('category')\n",
    "    .memory_usage(deep=True)\n",
    ")"
   ]
  },
  {
   "cell_type": "code",
   "execution_count": 18,
   "id": "7f7b13b8-7e1c-4cf7-b078-3b133deef4f9",
   "metadata": {
    "tags": []
   },
   "outputs": [
    {
     "data": {
      "text/plain": [
       "0        19\n",
       "1         9\n",
       "2        23\n",
       "3        10\n",
       "4        17\n",
       "         ..\n",
       "41139    19\n",
       "41140    20\n",
       "41141    18\n",
       "41142    18\n",
       "41143    16\n",
       "Name: city08, Length: 41144, dtype: object"
      ]
     },
     "execution_count": 18,
     "metadata": {},
     "output_type": "execute_result"
    }
   ],
   "source": [
    "city_mpg.astype(str)"
   ]
  },
  {
   "cell_type": "code",
   "execution_count": 19,
   "id": "1fdf0078-8e55-4574-a4c6-0c7096caedd0",
   "metadata": {
    "tags": []
   },
   "outputs": [
    {
     "data": {
      "text/plain": [
       "0        19\n",
       "1         9\n",
       "2        23\n",
       "3        10\n",
       "4        17\n",
       "         ..\n",
       "41139    19\n",
       "41140    20\n",
       "41141    18\n",
       "41142    18\n",
       "41143    16\n",
       "Name: city08, Length: 41144, dtype: category\n",
       "Categories (105, int64): [6, 7, 8, 9, ..., 137, 138, 140, 150]"
      ]
     },
     "execution_count": 19,
     "metadata": {},
     "output_type": "execute_result"
    }
   ],
   "source": [
    "city_mpg.astype('category')"
   ]
  },
  {
   "cell_type": "code",
   "execution_count": 20,
   "id": "f4d82669-0a86-405c-b530-3ecc594fe32a",
   "metadata": {
    "tags": []
   },
   "outputs": [],
   "source": [
    "values = pd.Series(sorted(set(city_mpg)))"
   ]
  },
  {
   "cell_type": "code",
   "execution_count": 21,
   "id": "9baea380-6bfa-482e-8efc-6988d097ee9a",
   "metadata": {
    "tags": []
   },
   "outputs": [],
   "source": [
    "city_type = pd.CategoricalDtype(categories=values, ordered=True)"
   ]
  },
  {
   "cell_type": "code",
   "execution_count": 22,
   "id": "7a37ba4d-a225-497a-bad2-4a98331746a8",
   "metadata": {
    "tags": []
   },
   "outputs": [
    {
     "data": {
      "text/plain": [
       "0        19\n",
       "1         9\n",
       "2        23\n",
       "3        10\n",
       "4        17\n",
       "         ..\n",
       "41139    19\n",
       "41140    20\n",
       "41141    18\n",
       "41142    18\n",
       "41143    16\n",
       "Name: city08, Length: 41144, dtype: category\n",
       "Categories (105, int64): [6 < 7 < 8 < 9 ... 137 < 138 < 140 < 150]"
      ]
     },
     "execution_count": 22,
     "metadata": {},
     "output_type": "execute_result"
    }
   ],
   "source": [
    "city_mpg.astype(city_type)"
   ]
  },
  {
   "cell_type": "code",
   "execution_count": 23,
   "id": "9afc3db1-2cd5-4be9-a653-afe47b26896e",
   "metadata": {
    "tags": []
   },
   "outputs": [
    {
     "data": {
      "text/html": [
       "<div>\n",
       "<style scoped>\n",
       "    .dataframe tbody tr th:only-of-type {\n",
       "        vertical-align: middle;\n",
       "    }\n",
       "\n",
       "    .dataframe tbody tr th {\n",
       "        vertical-align: top;\n",
       "    }\n",
       "\n",
       "    .dataframe thead th {\n",
       "        text-align: right;\n",
       "    }\n",
       "</style>\n",
       "<table border=\"1\" class=\"dataframe\">\n",
       "  <thead>\n",
       "    <tr style=\"text-align: right;\">\n",
       "      <th></th>\n",
       "      <th>city08</th>\n",
       "    </tr>\n",
       "  </thead>\n",
       "  <tbody>\n",
       "    <tr>\n",
       "      <th>0</th>\n",
       "      <td>19</td>\n",
       "    </tr>\n",
       "    <tr>\n",
       "      <th>1</th>\n",
       "      <td>9</td>\n",
       "    </tr>\n",
       "    <tr>\n",
       "      <th>2</th>\n",
       "      <td>23</td>\n",
       "    </tr>\n",
       "    <tr>\n",
       "      <th>3</th>\n",
       "      <td>10</td>\n",
       "    </tr>\n",
       "    <tr>\n",
       "      <th>4</th>\n",
       "      <td>17</td>\n",
       "    </tr>\n",
       "    <tr>\n",
       "      <th>...</th>\n",
       "      <td>...</td>\n",
       "    </tr>\n",
       "    <tr>\n",
       "      <th>41139</th>\n",
       "      <td>19</td>\n",
       "    </tr>\n",
       "    <tr>\n",
       "      <th>41140</th>\n",
       "      <td>20</td>\n",
       "    </tr>\n",
       "    <tr>\n",
       "      <th>41141</th>\n",
       "      <td>18</td>\n",
       "    </tr>\n",
       "    <tr>\n",
       "      <th>41142</th>\n",
       "      <td>18</td>\n",
       "    </tr>\n",
       "    <tr>\n",
       "      <th>41143</th>\n",
       "      <td>16</td>\n",
       "    </tr>\n",
       "  </tbody>\n",
       "</table>\n",
       "<p>41144 rows × 1 columns</p>\n",
       "</div>"
      ],
      "text/plain": [
       "       city08\n",
       "0          19\n",
       "1           9\n",
       "2          23\n",
       "3          10\n",
       "4          17\n",
       "...       ...\n",
       "41139      19\n",
       "41140      20\n",
       "41141      18\n",
       "41142      18\n",
       "41143      16\n",
       "\n",
       "[41144 rows x 1 columns]"
      ]
     },
     "execution_count": 23,
     "metadata": {},
     "output_type": "execute_result"
    }
   ],
   "source": [
    "city_mpg.to_frame()"
   ]
  },
  {
   "cell_type": "code",
   "execution_count": null,
   "id": "439fdbfb-59f2-46ce-998c-297f91c2a13b",
   "metadata": {},
   "outputs": [],
   "source": []
  }
 ],
 "metadata": {
  "kernelspec": {
   "display_name": "Python 3 (ipykernel)",
   "language": "python",
   "name": "python3"
  },
  "language_info": {
   "codemirror_mode": {
    "name": "ipython",
    "version": 3
   },
   "file_extension": ".py",
   "mimetype": "text/x-python",
   "name": "python",
   "nbconvert_exporter": "python",
   "pygments_lexer": "ipython3",
   "version": "3.8.18"
  }
 },
 "nbformat": 4,
 "nbformat_minor": 5
}
